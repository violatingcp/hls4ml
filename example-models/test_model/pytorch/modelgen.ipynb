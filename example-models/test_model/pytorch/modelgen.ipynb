{
 "cells": [
  {
   "cell_type": "code",
   "execution_count": 39,
   "metadata": {},
   "outputs": [],
   "source": [
    "import torch\n",
    "import torch.nn as nn"
   ]
  },
  {
   "cell_type": "code",
   "execution_count": 45,
   "metadata": {},
   "outputs": [],
   "source": [
    "model = nn.Sequential(\n",
    "          nn.Conv1d(1, 1, 3,padding=1),\n",
    "          nn.Flatten(),\n",
    "          nn.Linear(20,20),\n",
    "          nn.ReLU(),\n",
    "          #nn.MaxPool1d(3,2)\n",
    "        )"
   ]
  },
  {
   "cell_type": "code",
   "execution_count": 46,
   "metadata": {},
   "outputs": [
    {
     "name": "stdout",
     "output_type": "stream",
     "text": [
      "Sequential(\n",
      "  (0): Conv1d(1, 1, kernel_size=(3,), stride=(1,), padding=(1,))\n",
      "  (1): Flatten()\n",
      "  (2): Linear(in_features=20, out_features=20, bias=True)\n",
      "  (3): ReLU()\n",
      ")\n",
      "torch.Size([1, 1, 20])\n",
      "torch.Size([1, 20])\n"
     ]
    }
   ],
   "source": [
    "print(model)\n",
    "\n",
    "X = torch.randn((1,1,20))\n",
    "print(X.shape)\n",
    "\n",
    "y_pred = model(X)\n",
    "print(y_pred.shape)\n",
    "\n",
    "torch.save(model,'one_layer_conv_model.pt')"
   ]
  }
 ],
 "metadata": {
  "kernelspec": {
   "display_name": "Python 3",
   "language": "python",
   "name": "python3"
  },
  "language_info": {
   "codemirror_mode": {
    "name": "ipython",
    "version": 3
   },
   "file_extension": ".py",
   "mimetype": "text/x-python",
   "name": "python",
   "nbconvert_exporter": "python",
   "pygments_lexer": "ipython3",
   "version": "3.7.5"
  }
 },
 "nbformat": 4,
 "nbformat_minor": 4
}
